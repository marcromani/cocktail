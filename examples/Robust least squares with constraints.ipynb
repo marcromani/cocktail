{
 "cells": [
  {
   "cell_type": "code",
   "execution_count": 1,
   "metadata": {},
   "outputs": [],
   "source": [
    "import numpy as np\n",
    "from cocktail import lstsq, lstsq_ransac"
   ]
  },
  {
   "cell_type": "code",
   "execution_count": 2,
   "metadata": {},
   "outputs": [],
   "source": [
    "k = 50\n",
    "size = 10\n",
    "\n",
    "# k random points in the square [-size/2, size/2) x [-size/2, size/2)\n",
    "# Each column is a 2D point\n",
    "X = size * np.random.random(size=(2, k)) - size / 2\n",
    "\n",
    "# X plus a last row of ones\n",
    "X = np.concatenate((X, np.ones((1, X.shape[1]))))"
   ]
  },
  {
   "cell_type": "code",
   "execution_count": 3,
   "metadata": {},
   "outputs": [
    {
     "name": "stdout",
     "output_type": "stream",
     "text": [
      "[[ 2  0 -4]\n",
      " [ 0  3  1]]\n"
     ]
    }
   ],
   "source": [
    "sx = 2\n",
    "sy = 3\n",
    "tx = -4\n",
    "ty = 1\n",
    "\n",
    "# Unobservable 2D affine transformation\n",
    "A = np.array([\n",
    "    [sx, 0, tx],\n",
    "    [0, sy, ty]\n",
    "])\n",
    "\n",
    "print(A)"
   ]
  },
  {
   "cell_type": "code",
   "execution_count": 4,
   "metadata": {},
   "outputs": [],
   "source": [
    "# Transformed points (plus some noise)\n",
    "Y = np.matmul(A, X)\n",
    "# Y += 0.01 * np.random.normal(size=Y.shape)\n",
    "\n",
    "p = 0.5  # Ratio of inliers\n",
    "r = int(p * k)  # Number of inliers\n",
    "\n",
    "# Last k - r points are not from y = A*x model but random\n",
    "Y[:, r:] = size * np.random.random(size=(Y.shape[0], k - r)) - size / 2"
   ]
  },
  {
   "cell_type": "code",
   "execution_count": 5,
   "metadata": {},
   "outputs": [
    {
     "data": {
      "text/plain": [
       "array([[ 1.33823781e+00, -3.88578059e-16, -2.56842278e+00],\n",
       "       [ 0.00000000e+00,  1.45412911e+00,  1.21909974e+00]])"
      ]
     },
     "execution_count": 5,
     "metadata": {},
     "output_type": "execute_result"
    }
   ],
   "source": [
    "constraints = np.empty((2, 3))\n",
    "constraints[:] = np.nan\n",
    "constraints[0, 1] = constraints[1, 0] = 0\n",
    "\n",
    "# This yields a bad model!\n",
    "lstsq(X.T, Y.T, constraints).T"
   ]
  },
  {
   "cell_type": "code",
   "execution_count": 6,
   "metadata": {},
   "outputs": [
    {
     "data": {
      "text/plain": [
       "array([[ 2.00000000e+00,  2.22044605e-16, -4.00000000e+00],\n",
       "       [ 2.55945800e-16,  3.00000000e+00,  1.00000000e+00]])"
      ]
     },
     "execution_count": 6,
     "metadata": {},
     "output_type": "execute_result"
    }
   ],
   "source": [
    "num_iter = 100\n",
    "sample_size = 2\n",
    "min_num_inliers = 8\n",
    "tol = 0.05\n",
    "\n",
    "constraints = np.empty((2, 3))\n",
    "constraints[:] = np.nan\n",
    "constraints[0, 1] = constraints[1, 0] = 0\n",
    "\n",
    "# This yields a good model\n",
    "lstsq_ransac(X.T, Y.T, num_iter, sample_size, min_num_inliers, tol, constraints).T"
   ]
  }
 ],
 "metadata": {
  "kernelspec": {
   "display_name": "Python 3",
   "language": "python",
   "name": "python3"
  },
  "language_info": {
   "codemirror_mode": {
    "name": "ipython",
    "version": 3
   },
   "file_extension": ".py",
   "mimetype": "text/x-python",
   "name": "python",
   "nbconvert_exporter": "python",
   "pygments_lexer": "ipython3",
   "version": "3.8.0"
  }
 },
 "nbformat": 4,
 "nbformat_minor": 4
}
